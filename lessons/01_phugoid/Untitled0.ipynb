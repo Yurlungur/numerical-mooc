{
 "metadata": {
  "name": "",
  "signature": "sha256:ffeed54ee02be669d6f41dd6220091c98ad68a62e0c4773425639e187f9bcefc"
 },
 "nbformat": 3,
 "nbformat_minor": 0,
 "worksheets": [
  {
   "cells": [
    {
     "cell_type": "markdown",
     "metadata": {},
     "source": [
      "Let's import"
     ]
    },
    {
     "cell_type": "code",
     "collapsed": false,
     "input": [
      "import numpy\n",
      "import matplotlib"
     ],
     "language": "python",
     "metadata": {},
     "outputs": [],
     "prompt_number": 2
    },
    {
     "cell_type": "markdown",
     "metadata": {},
     "source": [
      "Now we define global variables"
     ]
    },
    {
     "cell_type": "code",
     "collapsed": false,
     "input": [
      "g = 9.81 # m/s^2 acceleration due to gravity\n",
      "rho = 1.091 # kg/m^3 density of air\n",
      "r = 0.5 # radius of the rocket\n",
      "A = numpy.pi*(r**2) # rocket radius\n",
      "ve = 325 # m/s exhaust speed\n",
      "CD = 0.15 # coefficient of drag\n",
      "mp0 = 100 # kg"
     ],
     "language": "python",
     "metadata": {},
     "outputs": [],
     "prompt_number": 3
    },
    {
     "cell_type": "code",
     "collapsed": false,
     "input": [],
     "language": "python",
     "metadata": {},
     "outputs": []
    }
   ],
   "metadata": {}
  }
 ]
}