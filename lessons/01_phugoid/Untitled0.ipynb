{
 "metadata": {
  "name": "",
  "signature": "sha256:be4d4aba589c2310701cf87cc1ee1da5e31acf62bc4a3b69e2ecf348f9cc7cbf"
 },
 "nbformat": 3,
 "nbformat_minor": 0,
 "worksheets": [
  {
   "cells": [
    {
     "cell_type": "code",
     "collapsed": false,
     "input": [
      "import numpy\n",
      "import matplotlib.pyplot as plt\n",
      "%matplotlib inline\n",
      "from matplotlib import rcParams\n",
      "rcParams['font.family'] = 'serif'\n",
      "rcParams['font.size'] = 16\n",
      "\n",
      "g = 9.81 # m/s^2 acceleration due to gravity\n",
      "rho = 1.091 # kg/m^3 density of air\n",
      "r = 0.5 # radius of the rocket\n",
      "A = numpy.pi*(r**2) # rocket radius\n",
      "ve = 325 # m/s exhaust speed\n",
      "CD = 0.15 # coefficient of drag\n",
      "mp0 = 100 # kg\n",
      "ms=50\n",
      "burn_rate = lambda t: 20 if t < 5 - 1E-10 else 0\n",
      "h0=0.\n",
      "v0=0."
     ],
     "language": "python",
     "metadata": {},
     "outputs": [],
     "prompt_number": 4
    },
    {
     "cell_type": "code",
     "collapsed": false,
     "input": [
      "def f(u,t):\n",
      "    \"\"\"\n",
      "    Returns the RHS of the rocket equations given a state vector u and a time t\n",
      "    \"\"\"\n",
      "    return numpy.array([u[1],\n",
      "                        (-(ms+u[2])*g + burn_rate(t)*ve - 0.5*rho*u[1]*abs(u[1])*A*CD)/(ms+u[2]),\n",
      "                        -burn_rate(t)])"
     ],
     "language": "python",
     "metadata": {},
     "outputs": [],
     "prompt_number": 2
    },
    {
     "cell_type": "code",
     "collapsed": false,
     "input": [
      "def euler_step(u,f,t,dt):\n",
      "    return u+dt*f(u,t)"
     ],
     "language": "python",
     "metadata": {},
     "outputs": [],
     "prompt_number": 3
    },
    {
     "cell_type": "code",
     "collapsed": false,
     "input": [
      "def rk2_step(u,f,t,dt):\n",
      "    u_mid = euler_step(u,f,t,dt/2)\n",
      "    return u + dt*f(u_mid,t+0.5*dt)"
     ],
     "language": "python",
     "metadata": {},
     "outputs": [],
     "prompt_number": 5
    },
    {
     "cell_type": "code",
     "collapsed": false,
     "input": [],
     "language": "python",
     "metadata": {},
     "outputs": []
    }
   ],
   "metadata": {}
  }
 ]
}