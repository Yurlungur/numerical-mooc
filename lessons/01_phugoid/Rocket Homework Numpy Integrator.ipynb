{
 "metadata": {
  "name": "",
  "signature": "sha256:19ad4d2635995be5aabfc0ae8c90107b356bcd45834d3b3897d34204bcc8a34f"
 },
 "nbformat": 3,
 "nbformat_minor": 0,
 "worksheets": [
  {
   "cells": [
    {
     "cell_type": "heading",
     "level": 1,
     "metadata": {},
     "source": [
      "Solving an ODE using SciPy's built in solver"
     ]
    },
    {
     "cell_type": "markdown",
     "metadata": {},
     "source": [
      "Here we demonstrate how to solve the rocket homework using scipy's built-in ODE solver, which is much more accurate and powerful than the ones we've built ourselves so far.\n",
      "\n",
      "The documentation is here: http://docs.scipy.org/doc/scipy/reference/generated/scipy.integrate.ode.html"
     ]
    },
    {
     "cell_type": "heading",
     "level": 3,
     "metadata": {},
     "source": [
      "Imports"
     ]
    },
    {
     "cell_type": "markdown",
     "metadata": {},
     "source": [
      "Our usual imports:"
     ]
    },
    {
     "cell_type": "code",
     "collapsed": false,
     "input": [
      "import numpy\n",
      "import matplotlib.pyplot as plt\n",
      "%matplotlib inline\n",
      "from matplotlib import rcParams\n",
      "rcParams['font.family'] = 'serif'\n",
      "rcParams['font.size'] = 16"
     ],
     "language": "python",
     "metadata": {},
     "outputs": [],
     "prompt_number": 1
    },
    {
     "cell_type": "markdown",
     "metadata": {},
     "source": [
      "And our new import"
     ]
    },
    {
     "cell_type": "code",
     "collapsed": false,
     "input": [
      "import scipy.integrate as integrate # Imports the integrate module"
     ],
     "language": "python",
     "metadata": {},
     "outputs": [],
     "prompt_number": 1
    },
    {
     "cell_type": "heading",
     "level": 3,
     "metadata": {},
     "source": [
      "Our usual preamble with initial variables and right-hand-side. Note that the inputs in f have been permuted."
     ]
    },
    {
     "cell_type": "code",
     "collapsed": false,
     "input": [
      "# Initial data\n",
      "g = 9.81 # m/s^2 acceleration due to gravity\n",
      "rho = 1.091 # kg/m^3 density of air\n",
      "r = 0.5 # radius of the rocket\n",
      "A = numpy.pi*(r**2) # rocket radius\n",
      "ve = 325 # m/s exhaust speed\n",
      "CD = 0.15 # coefficient of drag\n",
      "mp0 = 100 # kg\n",
      "ms=50\n",
      "burn_rate = lambda t: 20 if t < 5 else 0\n",
      "h0=0.\n",
      "v0=0.\n",
      "\n",
      "# We must specify initial data.\n",
      "u0 = numpy.array([h0,v0,mp0]) # initial data\n",
      "t0 = 0. # initial time\n",
      "\n",
      "# Our right-hand-side.\n",
      "def f(t,u): # NOTE: used to be f(u,t). However the scipy integrator needs f(t,u).\n",
      "    \"\"\"\n",
      "    Returns the RHS of the rocket equations given a state vector u and a time t\n",
      "    \"\"\"\n",
      "    return numpy.array([u[1],\n",
      "                        (-(ms+u[2])*g + burn_rate(t)*ve - 0.5*rho*u[1]*abs(u[1])*A*CD)/(ms+u[2]),\n",
      "                        -burn_rate(t)])"
     ],
     "language": "python",
     "metadata": {},
     "outputs": [],
     "prompt_number": 7
    },
    {
     "cell_type": "heading",
     "level": 3,
     "metadata": {},
     "source": [
      "Now the integrator"
     ]
    },
    {
     "cell_type": "code",
     "collapsed": false,
     "input": [
      "dt = 0.1\n",
      "u_solutions = u0\n",
      "t_solutions = numpy.array([t0])\n",
      "integrator = integrate.ode(f) # generates an ode integrator object\n",
      "integrator.set_initial_value(u0,t0) # sets the initial data\n",
      "while integrator.successful() and integrator.y[0] >= 0: # integrator.y maps to the current value of u\n",
      "    integrator.integrate(integrator.t + dt)\n",
      "    u_solutions = numpy.vstack((u_solutions,integrator.y))\n",
      "    t_solutions = numpy.hstack((t_solutions,integrator.t))"
     ],
     "language": "python",
     "metadata": {},
     "outputs": [],
     "prompt_number": 8
    },
    {
     "cell_type": "code",
     "collapsed": false,
     "input": [
      "h = u_solutions[...,0] # An easier way to extract h.\n",
      "plt.plot(t_solutions,h)\n",
      "plt.xlabel('time')\n",
      "plt.ylabel('height')\n",
      "plt.title(\"Plot for dt = 0.1\")"
     ],
     "language": "python",
     "metadata": {},
     "outputs": [
      {
       "metadata": {},
       "output_type": "pyout",
       "prompt_number": 10,
       "text": [
        "<matplotlib.text.Text at 0x42a3bd0>"
       ]
      },
      {
       "metadata": {},
       "output_type": "display_data",
       "png": "[encoded data removed]",
       "text": [
        "<matplotlib.figure.Figure at 0x41f8610>"
       ]
      }
     ],
     "prompt_number": 10
    },
    {
     "cell_type": "code",
     "collapsed": false,
     "input": [],
     "language": "python",
     "metadata": {},
     "outputs": []
    }
   ],
   "metadata": {}
  }
 ]
}