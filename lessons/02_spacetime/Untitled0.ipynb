{
 "metadata": {
  "name": "",
  "signature": "sha256:0612202fbe79949fb5f3cd6ecf48a711bf90ac36b39a06b149d1afff7cdd6c72"
 },
 "nbformat": 3,
 "nbformat_minor": 0,
 "worksheets": []
}